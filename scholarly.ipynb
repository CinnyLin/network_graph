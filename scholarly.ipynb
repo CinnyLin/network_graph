{
 "cells": [
  {
   "cell_type": "code",
   "execution_count": null,
   "metadata": {},
   "outputs": [],
   "source": []
  },
  {
   "cell_type": "markdown",
   "metadata": {},
   "source": [
    "trying out python's [scholarly](https://pypi.org/project/scholarly/) library and following documentation."
   ]
  },
  {
   "cell_type": "code",
   "execution_count": 31,
   "metadata": {},
   "outputs": [],
   "source": [
    "# google scholar\n",
    "from scholarly import scholarly\n",
    "import json\n",
    "import ast\n",
    "# network graph\n",
    "import pandas as pd\n",
    "import numpy as np\n",
    "import networkx as nx\n",
    "import matplotlib.pyplot as plt"
   ]
  },
  {
   "cell_type": "code",
   "execution_count": null,
   "metadata": {},
   "outputs": [],
   "source": []
  },
  {
   "cell_type": "code",
   "execution_count": 2,
   "metadata": {},
   "outputs": [
    {
     "name": "stdout",
     "output_type": "stream",
     "text": [
      "{'affiliation': 'Doctoral student at Carnegie Mellon University',\n",
      " 'citedby': 60,\n",
      " 'email': '@andrew.cmu.edu',\n",
      " 'filled': False,\n",
      " 'id': 'OG1A914AAAAJ',\n",
      " 'interests': ['C. Grace Haaf'],\n",
      " 'name': 'C. Grace Haaf',\n",
      " 'url_picture': 'https://scholar.google.com/citations?view_op=medium_photo&user=OG1A914AAAAJ'}\n"
     ]
    }
   ],
   "source": [
    "#print(next(scholarly.search_author('Tuomas Sandholm')))\n",
    "print(next(scholarly.search_author('C. Grace Haaf')))"
   ]
  },
  {
   "cell_type": "code",
   "execution_count": null,
   "metadata": {},
   "outputs": [],
   "source": []
  },
  {
   "cell_type": "code",
   "execution_count": 3,
   "metadata": {},
   "outputs": [
    {
     "name": "stdout",
     "output_type": "stream",
     "text": [
      "{'affiliation': 'Doctoral student at Carnegie Mellon University',\n",
      " 'citedby': 60,\n",
      " 'citedby5y': 53,\n",
      " 'cites_per_year': {2013: 2,\n",
      "                    2014: 5,\n",
      "                    2015: 5,\n",
      "                    2016: 11,\n",
      "                    2017: 10,\n",
      "                    2018: 8,\n",
      "                    2019: 13,\n",
      "                    2020: 6},\n",
      " 'coauthors': [{'affiliation': 'Carnegie Mellon University',\n",
      " 'filled': False,\n",
      " 'id': '92jyX2EAAAAJ',\n",
      " 'name': 'Jeremy J. Michalek'},\n",
      "               {'affiliation': 'Stanford Graduate School of Business',\n",
      " 'filled': False,\n",
      " 'id': 'J7GJsUAAAAAJ',\n",
      " 'name': 'William Ross Morrow'},\n",
      "               {'affiliation': 'Associate Professor, Energy Resources Engineering - Stanford '\n",
      "                'University',\n",
      " 'filled': False,\n",
      " 'id': 'f2yeR2QAAAAJ',\n",
      " 'name': 'Inês Lima Azevedo'},\n",
      "               {'affiliation': 'Drexel University',\n",
      " 'filled': False,\n",
      " 'id': 'tZ7edOoAAAAJ',\n",
      " 'name': 'Elea McDonnell Feit'}],\n",
      " 'email': '@andrew.cmu.edu',\n",
      " 'filled': False,\n",
      " 'hindex': 3,\n",
      " 'hindex5y': 3,\n",
      " 'i10index': 3,\n",
      " 'i10index5y': 3,\n",
      " 'id': 'OG1A914AAAAJ',\n",
      " 'interests': [],\n",
      " 'name': 'C. Grace Haaf',\n",
      " 'publications': [{'bib': {'cites': '27',\n",
      "         'title': 'Sensitivity of Vehicle Market Share Predictions to Discrete '\n",
      "                  'Choice Model Specification',\n",
      "         'year': '2014'},\n",
      " 'filled': False,\n",
      " 'id_citations': 'OG1A914AAAAJ:u5HHmVD_uO8C',\n",
      " 'source': 'citations'},\n",
      "                  {'bib': {'cites': '22',\n",
      "         'title': 'Robust design for profit maximization with aversion to '\n",
      "                  'downside risk from parametric uncertainty in consumer '\n",
      "                  'choice models',\n",
      "         'year': '2012'},\n",
      " 'filled': False,\n",
      " 'id_citations': 'OG1A914AAAAJ:u-x6o8ySG0sC',\n",
      " 'source': 'citations'},\n",
      "                  {'bib': {'cites': '10',\n",
      "         'title': 'Forecasting light-duty vehicle demand using '\n",
      "                  'alternative-specific constants for endogeneity correction '\n",
      "                  'versus calibration',\n",
      "         'year': '2016'},\n",
      " 'filled': False,\n",
      " 'id_citations': 'OG1A914AAAAJ:9yKSN-GCB0IC',\n",
      " 'source': 'citations'},\n",
      "                  {'bib': {'cites': '1',\n",
      "         'title': 'Vehicle Demand Forecasting with Discrete Choice Models: 2 '\n",
      "                  'Logit 2 Quit',\n",
      "         'year': '2014'},\n",
      " 'filled': False,\n",
      " 'id_citations': 'OG1A914AAAAJ:d1gkVwhDpl0C',\n",
      " 'source': 'citations'}],\n",
      " 'url_picture': 'https://scholar.google.com/citations?view_op=medium_photo&user=OG1A914AAAAJ'}\n"
     ]
    }
   ],
   "source": [
    "# Retrieve the author's data, fill-in, and print\n",
    "search_query = scholarly.search_author('C. Grace Haaf')\n",
    "author = next(search_query).fill()\n",
    "print(author)"
   ]
  },
  {
   "cell_type": "code",
   "execution_count": null,
   "metadata": {},
   "outputs": [],
   "source": []
  },
  {
   "cell_type": "code",
   "execution_count": null,
   "metadata": {},
   "outputs": [],
   "source": []
  },
  {
   "cell_type": "markdown",
   "metadata": {},
   "source": [
    "## Getting list of coauthor names"
   ]
  },
  {
   "cell_type": "code",
   "execution_count": 4,
   "metadata": {},
   "outputs": [
    {
     "data": {
      "text/plain": [
       "{'affiliation': 'Doctoral student at Carnegie Mellon University',\n",
       " 'citedby': 60,\n",
       " 'coauthors': [{'affiliation': 'Carnegie Mellon University',\n",
       " 'filled': False,\n",
       " 'id': '92jyX2EAAAAJ',\n",
       " 'name': 'Jeremy J. Michalek'},\n",
       "               {'affiliation': 'Stanford Graduate School of Business',\n",
       " 'filled': False,\n",
       " 'id': 'J7GJsUAAAAAJ',\n",
       " 'name': 'William Ross Morrow'},\n",
       "               {'affiliation': 'Associate Professor, Energy Resources Engineering - Stanford '\n",
       "                'University',\n",
       " 'filled': False,\n",
       " 'id': 'f2yeR2QAAAAJ',\n",
       " 'name': 'Inês Lima Azevedo'},\n",
       "               {'affiliation': 'Drexel University',\n",
       " 'filled': False,\n",
       " 'id': 'tZ7edOoAAAAJ',\n",
       " 'name': 'Elea McDonnell Feit'}],\n",
       " 'email': '@andrew.cmu.edu',\n",
       " 'filled': False,\n",
       " 'id': 'OG1A914AAAAJ',\n",
       " 'interests': ['C. Grace Haaf'],\n",
       " 'name': 'C. Grace Haaf',\n",
       " 'url_picture': 'https://scholar.google.com/citations?view_op=medium_photo&user=OG1A914AAAAJ'}"
      ]
     },
     "execution_count": 4,
     "metadata": {},
     "output_type": "execute_result"
    }
   ],
   "source": [
    "search_query = scholarly.search_author('C. Grace Haaf')\n",
    "coauthors = next(search_query).fill(['coauthors'])\n",
    "coauthors"
   ]
  },
  {
   "cell_type": "code",
   "execution_count": null,
   "metadata": {},
   "outputs": [],
   "source": []
  },
  {
   "cell_type": "markdown",
   "metadata": {},
   "source": [
    "Problem: returns a dictionary like object based on scholarly and difficult to access\n",
    "\n",
    "Attempts: converting it to string, can't convert it to dict\n",
    "    \n",
    "Solution: convert string to dictionary: `ast.literal_eval(dict_string)`"
   ]
  },
  {
   "cell_type": "code",
   "execution_count": null,
   "metadata": {},
   "outputs": [],
   "source": []
  },
  {
   "cell_type": "code",
   "execution_count": 5,
   "metadata": {},
   "outputs": [
    {
     "data": {
      "text/plain": [
       "{'affiliation': 'Doctoral student at Carnegie Mellon University',\n",
       " 'citedby': 60,\n",
       " 'coauthors': [{'affiliation': 'Carnegie Mellon University',\n",
       "   'filled': False,\n",
       "   'id': '92jyX2EAAAAJ',\n",
       "   'name': 'Jeremy J. Michalek'},\n",
       "  {'affiliation': 'Stanford Graduate School of Business',\n",
       "   'filled': False,\n",
       "   'id': 'J7GJsUAAAAAJ',\n",
       "   'name': 'William Ross Morrow'},\n",
       "  {'affiliation': 'Associate Professor, Energy Resources Engineering - Stanford University',\n",
       "   'filled': False,\n",
       "   'id': 'f2yeR2QAAAAJ',\n",
       "   'name': 'Inês Lima Azevedo'},\n",
       "  {'affiliation': 'Drexel University',\n",
       "   'filled': False,\n",
       "   'id': 'tZ7edOoAAAAJ',\n",
       "   'name': 'Elea McDonnell Feit'}],\n",
       " 'email': '@andrew.cmu.edu',\n",
       " 'filled': False,\n",
       " 'id': 'OG1A914AAAAJ',\n",
       " 'interests': ['C. Grace Haaf'],\n",
       " 'name': 'C. Grace Haaf',\n",
       " 'url_picture': 'https://scholar.google.com/citations?view_op=medium_photo&user=OG1A914AAAAJ'}"
      ]
     },
     "execution_count": 5,
     "metadata": {},
     "output_type": "execute_result"
    }
   ],
   "source": [
    "coauthor_dict = ast.literal_eval(str(coauthors))\n",
    "coauthor_dict"
   ]
  },
  {
   "cell_type": "code",
   "execution_count": 6,
   "metadata": {},
   "outputs": [
    {
     "data": {
      "text/plain": [
       "[{'affiliation': 'Carnegie Mellon University',\n",
       "  'filled': False,\n",
       "  'id': '92jyX2EAAAAJ',\n",
       "  'name': 'Jeremy J. Michalek'},\n",
       " {'affiliation': 'Stanford Graduate School of Business',\n",
       "  'filled': False,\n",
       "  'id': 'J7GJsUAAAAAJ',\n",
       "  'name': 'William Ross Morrow'},\n",
       " {'affiliation': 'Associate Professor, Energy Resources Engineering - Stanford University',\n",
       "  'filled': False,\n",
       "  'id': 'f2yeR2QAAAAJ',\n",
       "  'name': 'Inês Lima Azevedo'},\n",
       " {'affiliation': 'Drexel University',\n",
       "  'filled': False,\n",
       "  'id': 'tZ7edOoAAAAJ',\n",
       "  'name': 'Elea McDonnell Feit'}]"
      ]
     },
     "execution_count": 6,
     "metadata": {},
     "output_type": "execute_result"
    }
   ],
   "source": [
    "coauthor_dict_list = coauthor_dict['coauthors']\n",
    "coauthor_dict_list"
   ]
  },
  {
   "cell_type": "code",
   "execution_count": 7,
   "metadata": {},
   "outputs": [
    {
     "data": {
      "text/plain": [
       "['Jeremy J. Michalek',\n",
       " 'William Ross Morrow',\n",
       " 'Inês Lima Azevedo',\n",
       " 'Elea McDonnell Feit']"
      ]
     },
     "execution_count": 7,
     "metadata": {},
     "output_type": "execute_result"
    }
   ],
   "source": [
    "coauthor_names = []\n",
    "for coauthor in coauthor_dict_list:\n",
    "    coauthor_names.append(coauthor['name'])\n",
    "coauthor_names"
   ]
  },
  {
   "cell_type": "code",
   "execution_count": null,
   "metadata": {},
   "outputs": [],
   "source": []
  },
  {
   "cell_type": "code",
   "execution_count": 35,
   "metadata": {},
   "outputs": [
    {
     "data": {
      "text/html": [
       "<div>\n",
       "<style scoped>\n",
       "    .dataframe tbody tr th:only-of-type {\n",
       "        vertical-align: middle;\n",
       "    }\n",
       "\n",
       "    .dataframe tbody tr th {\n",
       "        vertical-align: top;\n",
       "    }\n",
       "\n",
       "    .dataframe thead th {\n",
       "        text-align: right;\n",
       "    }\n",
       "</style>\n",
       "<table border=\"1\" class=\"dataframe\">\n",
       "  <thead>\n",
       "    <tr style=\"text-align: right;\">\n",
       "      <th></th>\n",
       "      <th>from</th>\n",
       "      <th>to</th>\n",
       "    </tr>\n",
       "  </thead>\n",
       "  <tbody>\n",
       "    <tr>\n",
       "      <th>0</th>\n",
       "      <td>C. Grace Haaf</td>\n",
       "      <td>Jeremy J. Michalek</td>\n",
       "    </tr>\n",
       "    <tr>\n",
       "      <th>1</th>\n",
       "      <td>C. Grace Haaf</td>\n",
       "      <td>William Ross Morrow</td>\n",
       "    </tr>\n",
       "    <tr>\n",
       "      <th>2</th>\n",
       "      <td>C. Grace Haaf</td>\n",
       "      <td>Inês Lima Azevedo</td>\n",
       "    </tr>\n",
       "    <tr>\n",
       "      <th>3</th>\n",
       "      <td>C. Grace Haaf</td>\n",
       "      <td>Elea McDonnell Feit</td>\n",
       "    </tr>\n",
       "  </tbody>\n",
       "</table>\n",
       "</div>"
      ],
      "text/plain": [
       "            from                   to\n",
       "0  C. Grace Haaf   Jeremy J. Michalek\n",
       "1  C. Grace Haaf  William Ross Morrow\n",
       "2  C. Grace Haaf    Inês Lima Azevedo\n",
       "3  C. Grace Haaf  Elea McDonnell Feit"
      ]
     },
     "execution_count": 35,
     "metadata": {},
     "output_type": "execute_result"
    }
   ],
   "source": [
    "n = len(coauthor_names)\n",
    "test = pd.DataFrame({ 'from':['C. Grace Haaf']*n, \n",
    "                      'to':coauthor_names})\n",
    "test"
   ]
  },
  {
   "cell_type": "code",
   "execution_count": 36,
   "metadata": {},
   "outputs": [
    {
     "data": {
      "image/png": "[encoded data removed]",
      "text/plain": [
       "<Figure size 432x288 with 1 Axes>"
      ]
     },
     "metadata": {},
     "output_type": "display_data"
    }
   ],
   "source": [
    "# Build your graph\n",
    "#G=nx.from_pandas_dataframe(df, 'from', 'to')\n",
    "G=nx.from_pandas_edgelist(test, 'from', 'to')\n",
    "# Plot it\n",
    "nx.draw(G, with_labels=True, node_color='#cfd760')\n",
    "plt.show()"
   ]
  },
  {
   "cell_type": "code",
   "execution_count": null,
   "metadata": {},
   "outputs": [],
   "source": []
  },
  {
   "cell_type": "code",
   "execution_count": null,
   "metadata": {},
   "outputs": [],
   "source": []
  },
  {
   "cell_type": "code",
   "execution_count": null,
   "metadata": {},
   "outputs": [],
   "source": []
  },
  {
   "cell_type": "code",
   "execution_count": null,
   "metadata": {},
   "outputs": [],
   "source": []
  },
  {
   "cell_type": "code",
   "execution_count": null,
   "metadata": {},
   "outputs": [],
   "source": []
  },
  {
   "cell_type": "code",
   "execution_count": null,
   "metadata": {},
   "outputs": [],
   "source": []
  },
  {
   "cell_type": "code",
   "execution_count": null,
   "metadata": {},
   "outputs": [],
   "source": []
  },
  {
   "cell_type": "markdown",
   "metadata": {},
   "source": [
    "## Getting list of publication titles"
   ]
  },
  {
   "cell_type": "code",
   "execution_count": 8,
   "metadata": {},
   "outputs": [
    {
     "name": "stdout",
     "output_type": "stream",
     "text": [
      "['Sensitivity of Vehicle Market Share Predictions to Discrete Choice Model Specification', 'Robust design for profit maximization with aversion to downside risk from parametric uncertainty in consumer choice models', 'Forecasting light-duty vehicle demand using alternative-specific constants for endogeneity correction versus calibration', 'Vehicle Demand Forecasting with Discrete Choice Models: 2 Logit 2 Quit']\n"
     ]
    }
   ],
   "source": [
    "# Print the titles of the author's publications\n",
    "print([pub.bib['title'] for pub in author.publications])"
   ]
  },
  {
   "cell_type": "code",
   "execution_count": 9,
   "metadata": {},
   "outputs": [
    {
     "name": "stdout",
     "output_type": "stream",
     "text": [
      "{'bib': {'abstract': 'When design decisions are informed by consumer choice '\n",
      "                     'models, uncertainty in choice model predictions creates '\n",
      "                     'uncertainty for the designer. We investigate the '\n",
      "                     'variation and accuracy of market share predictions by '\n",
      "                     'characterizing fit and forecast accuracy of discrete '\n",
      "                     'choice models for the US light duty new vehicle market. '\n",
      "                     'Specifically, we estimate multinomial logit models for '\n",
      "                     '9000 utility functions representative of a large '\n",
      "                     'literature in vehicle choice modeling using sales data '\n",
      "                     'for years 2004–2006. Each model predicts shares for the '\n",
      "                     '2007 and 2010 markets, and we compare several '\n",
      "                     'quantitative measures of model fit and predictive '\n",
      "                     'accuracy. We find that (1) our accuracy measures are '\n",
      "                     'concordant: model specifications that perform well on '\n",
      "                     'one measure tend to also perform well on other measures '\n",
      "                     'for both fit and prediction.(2) Even the best discrete '\n",
      "                     'choice models exhibit substantial prediction error, '\n",
      "                     'stemming largely from …',\n",
      "         'author': 'C Grace Haaf and Jeremy J Michalek and W Ross Morrow and '\n",
      "                   'Yimin Liu',\n",
      "         'cites': '27',\n",
      "         'cites_id': '7979073078675756781',\n",
      "         'eprint': 'https://asmedigitalcollection.asme.org/mechanicaldesign/article-pdf/136/12/121402/4360414/md_136_12_121402.pdf',\n",
      "         'journal': 'Journal of Mechanical Design',\n",
      "         'number': '12',\n",
      "         'publisher': 'ASME',\n",
      "         'title': 'Sensitivity of Vehicle Market Share Predictions to Discrete '\n",
      "                  'Choice Model Specification',\n",
      "         'url': 'https://asmedigitalcollection.asme.org/mechanicaldesign/article-abstract/136/12/121402/375871',\n",
      "         'volume': '136',\n",
      "         'year': '2014'},\n",
      " 'citations_link': '/scholar?cites=7979073078675756781',\n",
      " 'cites_per_year': {2014: 1, 2015: 9, 2016: 4, 2017: 4, 2018: 8, 2019: 1},\n",
      " 'filled': True,\n",
      " 'id_citations': 'OG1A914AAAAJ:u5HHmVD_uO8C',\n",
      " 'source': 'citations'}\n"
     ]
    }
   ],
   "source": [
    "# Take a closer look at the first publication\n",
    "pub = author.publications[0].fill()\n",
    "print(pub)"
   ]
  },
  {
   "cell_type": "code",
   "execution_count": 10,
   "metadata": {},
   "outputs": [
    {
     "ename": "Exception",
     "evalue": "Cannot fetch the page from Google Scholar.",
     "output_type": "error",
     "traceback": [
      "\u001b[0;31m---------------------------------------------------------------------------\u001b[0m",
      "\u001b[0;31mException\u001b[0m                                 Traceback (most recent call last)",
      "\u001b[0;32m<ipython-input-10-77acfa39e843>\u001b[0m in \u001b[0;36m<module>\u001b[0;34m\u001b[0m\n\u001b[1;32m      1\u001b[0m \u001b[0;31m# Which papers cited that publication?\u001b[0m\u001b[0;34m\u001b[0m\u001b[0;34m\u001b[0m\u001b[0;34m\u001b[0m\u001b[0m\n\u001b[0;32m----> 2\u001b[0;31m \u001b[0mprint\u001b[0m\u001b[0;34m(\u001b[0m\u001b[0;34m[\u001b[0m\u001b[0mcitation\u001b[0m\u001b[0;34m.\u001b[0m\u001b[0mbib\u001b[0m\u001b[0;34m[\u001b[0m\u001b[0;34m'title'\u001b[0m\u001b[0;34m]\u001b[0m \u001b[0;32mfor\u001b[0m \u001b[0mcitation\u001b[0m \u001b[0;32min\u001b[0m \u001b[0mpub\u001b[0m\u001b[0;34m.\u001b[0m\u001b[0mcitedby\u001b[0m\u001b[0;34m]\u001b[0m\u001b[0;34m)\u001b[0m\u001b[0;34m\u001b[0m\u001b[0;34m\u001b[0m\u001b[0m\n\u001b[0m",
      "\u001b[0;32m/Library/Frameworks/Python.framework/Versions/3.8/lib/python3.8/site-packages/scholarly/publication.py\u001b[0m in \u001b[0;36mcitedby\u001b[0;34m(self)\u001b[0m\n\u001b[1;32m    297\u001b[0m         \u001b[0;32mif\u001b[0m \u001b[0;32mnot\u001b[0m \u001b[0mself\u001b[0m\u001b[0;34m.\u001b[0m\u001b[0mfilled\u001b[0m\u001b[0;34m:\u001b[0m\u001b[0;34m\u001b[0m\u001b[0;34m\u001b[0m\u001b[0m\n\u001b[1;32m    298\u001b[0m             \u001b[0mself\u001b[0m\u001b[0;34m.\u001b[0m\u001b[0mfill\u001b[0m\u001b[0;34m(\u001b[0m\u001b[0;34m)\u001b[0m\u001b[0;34m\u001b[0m\u001b[0;34m\u001b[0m\u001b[0m\n\u001b[0;32m--> 299\u001b[0;31m         \u001b[0;32mreturn\u001b[0m \u001b[0m_SearchScholarIterator\u001b[0m\u001b[0;34m(\u001b[0m\u001b[0mself\u001b[0m\u001b[0;34m.\u001b[0m\u001b[0mnav\u001b[0m\u001b[0;34m,\u001b[0m \u001b[0mself\u001b[0m\u001b[0;34m.\u001b[0m\u001b[0mcitations_link\u001b[0m\u001b[0;34m)\u001b[0m\u001b[0;34m\u001b[0m\u001b[0;34m\u001b[0m\u001b[0m\n\u001b[0m\u001b[1;32m    300\u001b[0m \u001b[0;34m\u001b[0m\u001b[0m\n\u001b[1;32m    301\u001b[0m     \u001b[0;34m@\u001b[0m\u001b[0mproperty\u001b[0m\u001b[0;34m\u001b[0m\u001b[0;34m\u001b[0m\u001b[0m\n",
      "\u001b[0;32m/Library/Frameworks/Python.framework/Versions/3.8/lib/python3.8/site-packages/scholarly/publication.py\u001b[0m in \u001b[0;36m__init__\u001b[0;34m(self, nav, url)\u001b[0m\n\u001b[1;32m     24\u001b[0m         \u001b[0mself\u001b[0m\u001b[0;34m.\u001b[0m\u001b[0m_url\u001b[0m \u001b[0;34m=\u001b[0m \u001b[0murl\u001b[0m\u001b[0;34m\u001b[0m\u001b[0;34m\u001b[0m\u001b[0m\n\u001b[1;32m     25\u001b[0m         \u001b[0mself\u001b[0m\u001b[0;34m.\u001b[0m\u001b[0m_nav\u001b[0m \u001b[0;34m=\u001b[0m \u001b[0mnav\u001b[0m\u001b[0;34m\u001b[0m\u001b[0;34m\u001b[0m\u001b[0m\n\u001b[0;32m---> 26\u001b[0;31m         \u001b[0mself\u001b[0m\u001b[0;34m.\u001b[0m\u001b[0m_load_url\u001b[0m\u001b[0;34m(\u001b[0m\u001b[0murl\u001b[0m\u001b[0;34m)\u001b[0m\u001b[0;34m\u001b[0m\u001b[0;34m\u001b[0m\u001b[0m\n\u001b[0m\u001b[1;32m     27\u001b[0m \u001b[0;34m\u001b[0m\u001b[0m\n\u001b[1;32m     28\u001b[0m     \u001b[0;32mdef\u001b[0m \u001b[0m_load_url\u001b[0m\u001b[0;34m(\u001b[0m\u001b[0mself\u001b[0m\u001b[0;34m,\u001b[0m \u001b[0murl\u001b[0m\u001b[0;34m:\u001b[0m \u001b[0mstr\u001b[0m\u001b[0;34m)\u001b[0m\u001b[0;34m:\u001b[0m\u001b[0;34m\u001b[0m\u001b[0;34m\u001b[0m\u001b[0m\n",
      "\u001b[0;32m/Library/Frameworks/Python.framework/Versions/3.8/lib/python3.8/site-packages/scholarly/publication.py\u001b[0m in \u001b[0;36m_load_url\u001b[0;34m(self, url)\u001b[0m\n\u001b[1;32m     28\u001b[0m     \u001b[0;32mdef\u001b[0m \u001b[0m_load_url\u001b[0m\u001b[0;34m(\u001b[0m\u001b[0mself\u001b[0m\u001b[0;34m,\u001b[0m \u001b[0murl\u001b[0m\u001b[0;34m:\u001b[0m \u001b[0mstr\u001b[0m\u001b[0;34m)\u001b[0m\u001b[0;34m:\u001b[0m\u001b[0;34m\u001b[0m\u001b[0;34m\u001b[0m\u001b[0m\n\u001b[1;32m     29\u001b[0m         \u001b[0;31m# this is temporary until setup json file\u001b[0m\u001b[0;34m\u001b[0m\u001b[0;34m\u001b[0m\u001b[0;34m\u001b[0m\u001b[0m\n\u001b[0;32m---> 30\u001b[0;31m         \u001b[0mself\u001b[0m\u001b[0;34m.\u001b[0m\u001b[0m_soup\u001b[0m \u001b[0;34m=\u001b[0m \u001b[0mself\u001b[0m\u001b[0;34m.\u001b[0m\u001b[0m_nav\u001b[0m\u001b[0;34m.\u001b[0m\u001b[0m_get_soup\u001b[0m\u001b[0;34m(\u001b[0m\u001b[0murl\u001b[0m\u001b[0;34m)\u001b[0m\u001b[0;34m\u001b[0m\u001b[0;34m\u001b[0m\u001b[0m\n\u001b[0m\u001b[1;32m     31\u001b[0m         \u001b[0mself\u001b[0m\u001b[0;34m.\u001b[0m\u001b[0m_pos\u001b[0m \u001b[0;34m=\u001b[0m \u001b[0;36m0\u001b[0m\u001b[0;34m\u001b[0m\u001b[0;34m\u001b[0m\u001b[0m\n\u001b[1;32m     32\u001b[0m         \u001b[0mself\u001b[0m\u001b[0;34m.\u001b[0m\u001b[0m_rows\u001b[0m \u001b[0;34m=\u001b[0m \u001b[0mself\u001b[0m\u001b[0;34m.\u001b[0m\u001b[0m_soup\u001b[0m\u001b[0;34m.\u001b[0m\u001b[0mfind_all\u001b[0m\u001b[0;34m(\u001b[0m\u001b[0;34m'div'\u001b[0m\u001b[0;34m,\u001b[0m \u001b[0mclass_\u001b[0m\u001b[0;34m=\u001b[0m\u001b[0;34m'gs_r gs_or gs_scl'\u001b[0m\u001b[0;34m)\u001b[0m\u001b[0;34m\u001b[0m\u001b[0;34m\u001b[0m\u001b[0m\n",
      "\u001b[0;32m/Library/Frameworks/Python.framework/Versions/3.8/lib/python3.8/site-packages/scholarly/_navigator.py\u001b[0m in \u001b[0;36m_get_soup\u001b[0;34m(self, url)\u001b[0m\n\u001b[1;32m    190\u001b[0m     \u001b[0;32mdef\u001b[0m \u001b[0m_get_soup\u001b[0m\u001b[0;34m(\u001b[0m\u001b[0mself\u001b[0m\u001b[0;34m,\u001b[0m \u001b[0murl\u001b[0m\u001b[0;34m:\u001b[0m \u001b[0mstr\u001b[0m\u001b[0;34m)\u001b[0m \u001b[0;34m->\u001b[0m \u001b[0mBeautifulSoup\u001b[0m\u001b[0;34m:\u001b[0m\u001b[0;34m\u001b[0m\u001b[0;34m\u001b[0m\u001b[0m\n\u001b[1;32m    191\u001b[0m         \u001b[0;34m\"\"\"Return the BeautifulSoup for a page on scholar.google.com\"\"\"\u001b[0m\u001b[0;34m\u001b[0m\u001b[0;34m\u001b[0m\u001b[0m\n\u001b[0;32m--> 192\u001b[0;31m         \u001b[0mhtml\u001b[0m \u001b[0;34m=\u001b[0m \u001b[0mself\u001b[0m\u001b[0;34m.\u001b[0m\u001b[0m_get_page\u001b[0m\u001b[0;34m(\u001b[0m\u001b[0;34m'https://scholar.google.com{0}'\u001b[0m\u001b[0;34m.\u001b[0m\u001b[0mformat\u001b[0m\u001b[0;34m(\u001b[0m\u001b[0murl\u001b[0m\u001b[0;34m)\u001b[0m\u001b[0;34m)\u001b[0m\u001b[0;34m\u001b[0m\u001b[0;34m\u001b[0m\u001b[0m\n\u001b[0m\u001b[1;32m    193\u001b[0m         \u001b[0mhtml\u001b[0m \u001b[0;34m=\u001b[0m \u001b[0mhtml\u001b[0m\u001b[0;34m.\u001b[0m\u001b[0mreplace\u001b[0m\u001b[0;34m(\u001b[0m\u001b[0;34mu'\\xa0'\u001b[0m\u001b[0;34m,\u001b[0m \u001b[0;34mu' '\u001b[0m\u001b[0;34m)\u001b[0m\u001b[0;34m\u001b[0m\u001b[0;34m\u001b[0m\u001b[0m\n\u001b[1;32m    194\u001b[0m         \u001b[0mres\u001b[0m \u001b[0;34m=\u001b[0m \u001b[0mBeautifulSoup\u001b[0m\u001b[0;34m(\u001b[0m\u001b[0mhtml\u001b[0m\u001b[0;34m,\u001b[0m \u001b[0;34m'html.parser'\u001b[0m\u001b[0;34m)\u001b[0m\u001b[0;34m\u001b[0m\u001b[0;34m\u001b[0m\u001b[0m\n",
      "\u001b[0;32m/Library/Frameworks/Python.framework/Versions/3.8/lib/python3.8/site-packages/scholarly/_navigator.py\u001b[0m in \u001b[0;36m_get_page\u001b[0;34m(self, pagerequest)\u001b[0m\n\u001b[1;32m    142\u001b[0m             \u001b[0mtries\u001b[0m \u001b[0;34m+=\u001b[0m \u001b[0;36m1\u001b[0m\u001b[0;34m\u001b[0m\u001b[0;34m\u001b[0m\u001b[0m\n\u001b[1;32m    143\u001b[0m             \u001b[0mself\u001b[0m\u001b[0;34m.\u001b[0m\u001b[0m_session\u001b[0m\u001b[0;34m,\u001b[0m \u001b[0mtimeout\u001b[0m \u001b[0;34m=\u001b[0m \u001b[0mself\u001b[0m\u001b[0;34m.\u001b[0m\u001b[0mpm\u001b[0m\u001b[0;34m.\u001b[0m\u001b[0mget_next_proxy\u001b[0m\u001b[0;34m(\u001b[0m\u001b[0mnum_tries\u001b[0m \u001b[0;34m=\u001b[0m \u001b[0mtries\u001b[0m\u001b[0;34m,\u001b[0m \u001b[0mold_timeout\u001b[0m \u001b[0;34m=\u001b[0m \u001b[0mtimeout\u001b[0m\u001b[0;34m)\u001b[0m\u001b[0;34m\u001b[0m\u001b[0;34m\u001b[0m\u001b[0m\n\u001b[0;32m--> 144\u001b[0;31m         \u001b[0;32mraise\u001b[0m \u001b[0mException\u001b[0m\u001b[0;34m(\u001b[0m\u001b[0;34m\"Cannot fetch the page from Google Scholar.\"\u001b[0m\u001b[0;34m)\u001b[0m\u001b[0;34m\u001b[0m\u001b[0;34m\u001b[0m\u001b[0m\n\u001b[0m\u001b[1;32m    145\u001b[0m \u001b[0;34m\u001b[0m\u001b[0m\n\u001b[1;32m    146\u001b[0m \u001b[0;34m\u001b[0m\u001b[0m\n",
      "\u001b[0;31mException\u001b[0m: Cannot fetch the page from Google Scholar."
     ]
    }
   ],
   "source": [
    "# Which papers cited that publication?\n",
    "print([citation.bib['title'] for citation in pub.citedby])"
   ]
  },
  {
   "cell_type": "code",
   "execution_count": null,
   "metadata": {},
   "outputs": [],
   "source": []
  },
  {
   "cell_type": "code",
   "execution_count": null,
   "metadata": {},
   "outputs": [],
   "source": []
  },
  {
   "cell_type": "code",
   "execution_count": null,
   "metadata": {},
   "outputs": [],
   "source": []
  },
  {
   "cell_type": "code",
   "execution_count": null,
   "metadata": {},
   "outputs": [],
   "source": []
  },
  {
   "cell_type": "code",
   "execution_count": null,
   "metadata": {},
   "outputs": [],
   "source": []
  }
 ],
 "metadata": {
  "kernelspec": {
   "display_name": "Python 3.8.1 64-bit",
   "language": "python",
   "name": "python38164bit0209044da7c742dab8314e0953beb93b"
  },
  "language_info": {
   "codemirror_mode": {
    "name": "ipython",
    "version": 3
   },
   "file_extension": ".py",
   "mimetype": "text/x-python",
   "name": "python",
   "nbconvert_exporter": "python",
   "pygments_lexer": "ipython3",
   "version": "3.8.1"
  }
 },
 "nbformat": 4,
 "nbformat_minor": 4
}
