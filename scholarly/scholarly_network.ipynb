{
 "cells": [
  {
   "cell_type": "code",
   "execution_count": null,
   "metadata": {},
   "outputs": [],
   "source": []
  },
  {
   "cell_type": "markdown",
   "metadata": {},
   "source": [
    "trying out python's [scholarly](https://pypi.org/project/scholarly/) library and following documentation."
   ]
  },
  {
   "cell_type": "code",
   "execution_count": 1,
   "metadata": {},
   "outputs": [],
   "source": [
    "# google scholar\n",
    "from scholarly import scholarly\n",
    "from scholarly import ProxyGenerator\n",
    "import json\n",
    "import ast\n",
    "# network graph\n",
    "import pandas as pd\n",
    "import numpy as np\n",
    "import networkx as nx\n",
    "import matplotlib.pyplot as plt"
   ]
  },
  {
   "cell_type": "code",
   "execution_count": 2,
   "metadata": {},
   "outputs": [],
   "source": [
    "#pg = ProxyGenerator()\n",
    "#pg.FreeProxies()\n",
    "#scholarly.use_proxy(pg)"
   ]
  },
  {
   "cell_type": "code",
   "execution_count": null,
   "metadata": {},
   "outputs": [],
   "source": []
  },
  {
   "cell_type": "markdown",
   "metadata": {},
   "source": [
    "## test network graph with one author"
   ]
  },
  {
   "cell_type": "code",
   "execution_count": 3,
   "metadata": {},
   "outputs": [
    {
     "data": {
      "text/plain": [
       "['Jeremy J. Michalek',\n",
       " 'William Ross Morrow',\n",
       " 'Inês Lima Azevedo',\n",
       " 'Elea McDonnell Feit']"
      ]
     },
     "execution_count": 3,
     "metadata": {},
     "output_type": "execute_result"
    }
   ],
   "source": [
    "# get list of coauthor names\n",
    "search_query = scholarly.search_author('C. Grace Haaf')\n",
    "coauthors = next(search_query).fill(['coauthors'])\n",
    "coauthor_dict = ast.literal_eval(str(coauthors))\n",
    "coauthor_dict_list = coauthor_dict['coauthors']\n",
    "coauthor_names = []\n",
    "for coauthor in coauthor_dict_list:\n",
    "    coauthor_names.append(coauthor['name'])\n",
    "coauthor_names"
   ]
  },
  {
   "cell_type": "code",
   "execution_count": 4,
   "metadata": {},
   "outputs": [
    {
     "data": {
      "text/html": [
       "<div>\n",
       "<style scoped>\n",
       "    .dataframe tbody tr th:only-of-type {\n",
       "        vertical-align: middle;\n",
       "    }\n",
       "\n",
       "    .dataframe tbody tr th {\n",
       "        vertical-align: top;\n",
       "    }\n",
       "\n",
       "    .dataframe thead th {\n",
       "        text-align: right;\n",
       "    }\n",
       "</style>\n",
       "<table border=\"1\" class=\"dataframe\">\n",
       "  <thead>\n",
       "    <tr style=\"text-align: right;\">\n",
       "      <th></th>\n",
       "      <th>from</th>\n",
       "      <th>to</th>\n",
       "    </tr>\n",
       "  </thead>\n",
       "  <tbody>\n",
       "    <tr>\n",
       "      <th>0</th>\n",
       "      <td>C. Grace Haaf</td>\n",
       "      <td>Jeremy J. Michalek</td>\n",
       "    </tr>\n",
       "    <tr>\n",
       "      <th>1</th>\n",
       "      <td>C. Grace Haaf</td>\n",
       "      <td>William Ross Morrow</td>\n",
       "    </tr>\n",
       "    <tr>\n",
       "      <th>2</th>\n",
       "      <td>C. Grace Haaf</td>\n",
       "      <td>Inês Lima Azevedo</td>\n",
       "    </tr>\n",
       "    <tr>\n",
       "      <th>3</th>\n",
       "      <td>C. Grace Haaf</td>\n",
       "      <td>Elea McDonnell Feit</td>\n",
       "    </tr>\n",
       "  </tbody>\n",
       "</table>\n",
       "</div>"
      ],
      "text/plain": [
       "            from                   to\n",
       "0  C. Grace Haaf   Jeremy J. Michalek\n",
       "1  C. Grace Haaf  William Ross Morrow\n",
       "2  C. Grace Haaf    Inês Lima Azevedo\n",
       "3  C. Grace Haaf  Elea McDonnell Feit"
      ]
     },
     "execution_count": 4,
     "metadata": {},
     "output_type": "execute_result"
    }
   ],
   "source": [
    "n = len(coauthor_names)\n",
    "test = pd.DataFrame({ 'from':['C. Grace Haaf']*n, \n",
    "                      'to':coauthor_names})\n",
    "test"
   ]
  },
  {
   "cell_type": "code",
   "execution_count": 5,
   "metadata": {},
   "outputs": [
    {
     "data": {
      "image/png": "[encoded data removed]",
      "text/plain": [
       "<Figure size 432x288 with 1 Axes>"
      ]
     },
     "metadata": {},
     "output_type": "display_data"
    }
   ],
   "source": [
    "# Build your graph\n",
    "#G=nx.from_pandas_dataframe(df, 'from', 'to')\n",
    "G=nx.from_pandas_edgelist(test, 'from', 'to')\n",
    "# Plot it\n",
    "nx.draw(G, with_labels=True, node_color='#cfd760')\n",
    "plt.show()"
   ]
  },
  {
   "cell_type": "code",
   "execution_count": null,
   "metadata": {},
   "outputs": [],
   "source": []
  },
  {
   "cell_type": "markdown",
   "metadata": {},
   "source": [
    "## test network graph with more authors"
   ]
  },
  {
   "cell_type": "code",
   "execution_count": 6,
   "metadata": {},
   "outputs": [
    {
     "data": {
      "text/html": [
       "<div>\n",
       "<style scoped>\n",
       "    .dataframe tbody tr th:only-of-type {\n",
       "        vertical-align: middle;\n",
       "    }\n",
       "\n",
       "    .dataframe tbody tr th {\n",
       "        vertical-align: top;\n",
       "    }\n",
       "\n",
       "    .dataframe thead th {\n",
       "        text-align: right;\n",
       "    }\n",
       "</style>\n",
       "<table border=\"1\" class=\"dataframe\">\n",
       "  <thead>\n",
       "    <tr style=\"text-align: right;\">\n",
       "      <th></th>\n",
       "      <th>Title</th>\n",
       "      <th>Author(s)</th>\n",
       "      <th>Link</th>\n",
       "    </tr>\n",
       "  </thead>\n",
       "  <tbody>\n",
       "    <tr>\n",
       "      <th>0</th>\n",
       "      <td>Game theory and AI: a unified approach to poke...</td>\n",
       "      <td>Frans Oliehoek</td>\n",
       "      <td>http://fransoliehoek.net/docs/Oliehoek05MSc.pdf</td>\n",
       "    </tr>\n",
       "  </tbody>\n",
       "</table>\n",
       "</div>"
      ],
      "text/plain": [
       "                                               Title       Author(s)  \\\n",
       "0  Game theory and AI: a unified approach to poke...  Frans Oliehoek   \n",
       "\n",
       "                                              Link  \n",
       "0  http://fransoliehoek.net/docs/Oliehoek05MSc.pdf  "
      ]
     },
     "execution_count": 6,
     "metadata": {},
     "output_type": "execute_result"
    }
   ],
   "source": [
    "df = pd.read_csv('sample.csv')\n",
    "df.head(1)"
   ]
  },
  {
   "cell_type": "code",
   "execution_count": 7,
   "metadata": {},
   "outputs": [],
   "source": [
    "nested_authors_list = list(df['Author(s)'].str.split(','))\n",
    "flat_authors_list = [item.strip() for sublist in nested_authors_list for item in sublist]\n",
    "unique_authors_list = list(set(flat_authors_list))"
   ]
  },
  {
   "cell_type": "code",
   "execution_count": 8,
   "metadata": {},
   "outputs": [],
   "source": [
    "#unique_authors_list"
   ]
  },
  {
   "cell_type": "code",
   "execution_count": null,
   "metadata": {},
   "outputs": [],
   "source": []
  },
  {
   "cell_type": "code",
   "execution_count": 9,
   "metadata": {},
   "outputs": [
    {
     "ename": "StopIteration",
     "evalue": "",
     "output_type": "error",
     "traceback": [
      "\u001b[0;31m---------------------------------------------------------------------------\u001b[0m",
      "\u001b[0;31mStopIteration\u001b[0m                             Traceback (most recent call last)",
      "\u001b[0;32m<ipython-input-9-18d88f84823e>\u001b[0m in \u001b[0;36m<module>\u001b[0;34m\u001b[0m\n\u001b[1;32m      8\u001b[0m     \u001b[0;31m# query from Google Scholar\u001b[0m\u001b[0;34m\u001b[0m\u001b[0;34m\u001b[0m\u001b[0;34m\u001b[0m\u001b[0m\n\u001b[1;32m      9\u001b[0m     \u001b[0msearch_query\u001b[0m \u001b[0;34m=\u001b[0m \u001b[0mscholarly\u001b[0m\u001b[0;34m.\u001b[0m\u001b[0msearch_author\u001b[0m\u001b[0;34m(\u001b[0m\u001b[0mauthor\u001b[0m\u001b[0;34m)\u001b[0m\u001b[0;34m\u001b[0m\u001b[0;34m\u001b[0m\u001b[0m\n\u001b[0;32m---> 10\u001b[0;31m     \u001b[0mcoauthors\u001b[0m \u001b[0;34m=\u001b[0m \u001b[0mnext\u001b[0m\u001b[0;34m(\u001b[0m\u001b[0msearch_query\u001b[0m\u001b[0;34m)\u001b[0m\u001b[0;34m.\u001b[0m\u001b[0mfill\u001b[0m\u001b[0;34m(\u001b[0m\u001b[0;34m[\u001b[0m\u001b[0;34m'coauthors'\u001b[0m\u001b[0;34m]\u001b[0m\u001b[0;34m)\u001b[0m\u001b[0;34m\u001b[0m\u001b[0;34m\u001b[0m\u001b[0m\n\u001b[0m\u001b[1;32m     11\u001b[0m     \u001b[0mcoauthor_dict\u001b[0m \u001b[0;34m=\u001b[0m \u001b[0mast\u001b[0m\u001b[0;34m.\u001b[0m\u001b[0mliteral_eval\u001b[0m\u001b[0;34m(\u001b[0m\u001b[0mstr\u001b[0m\u001b[0;34m(\u001b[0m\u001b[0mcoauthors\u001b[0m\u001b[0;34m)\u001b[0m\u001b[0;34m)\u001b[0m\u001b[0;34m\u001b[0m\u001b[0;34m\u001b[0m\u001b[0m\n\u001b[1;32m     12\u001b[0m     \u001b[0mcoauthor_dict_list\u001b[0m \u001b[0;34m=\u001b[0m \u001b[0mcoauthor_dict\u001b[0m\u001b[0;34m[\u001b[0m\u001b[0;34m'coauthors'\u001b[0m\u001b[0;34m]\u001b[0m\u001b[0;34m\u001b[0m\u001b[0;34m\u001b[0m\u001b[0m\n",
      "\u001b[0;31mStopIteration\u001b[0m: "
     ]
    }
   ],
   "source": [
    "# list of 5 authors\n",
    "test_authors_list = unique_authors_list[:5]\n",
    "# testing dataframe\n",
    "test_df = pd.DataFrame(columns=['from', 'to'])\n",
    "\n",
    "# get list of coauthor names\n",
    "for author in test_authors_list:\n",
    "    # query from Google Scholar\n",
    "    search_query = scholarly.search_author(author)\n",
    "    coauthors = next(search_query).fill(['coauthors'])\n",
    "    coauthor_dict = ast.literal_eval(str(coauthors))\n",
    "    coauthor_dict_list = coauthor_dict['coauthors']\n",
    "    # get list of coauthor names\n",
    "    coauthor_names = []\n",
    "    for coauthor in coauthor_dict_list:\n",
    "        coauthor_names.append(coauthor['name'])\n",
    "    # create dataframe\n",
    "    n = len(coauthor_names)\n",
    "    test_df.append(pd.DataFrame({'from':[author]*n,'to':coauthor_names}))\n",
    "\n",
    "# plot graph\n",
    "G=nx.from_pandas_edgelist(test_df, 'from', 'to')\n",
    "nx.draw(G, with_labels=True, node_color='#cfd760')\n",
    "plt.show()"
   ]
  },
  {
   "cell_type": "code",
   "execution_count": null,
   "metadata": {},
   "outputs": [],
   "source": []
  },
  {
   "cell_type": "code",
   "execution_count": null,
   "metadata": {},
   "outputs": [],
   "source": [
    "# list of 5 authors\n",
    "test_authors_list = unique_authors_list[:5]\n",
    "# testing dataframe\n",
    "#test_df = pd.DataFrame(columns=['from', 'to'])\n",
    "test_df = pd.DataFrame({'from':['C. Grace Haaf']*4, \n",
    "                      'to':['Jeremy J. Michalek','William Ross Morrow','Inês Lima Azevedo','Elea McDonnell Feit']})"
   ]
  },
  {
   "cell_type": "code",
   "execution_count": null,
   "metadata": {},
   "outputs": [],
   "source": [
    "test_authors_list"
   ]
  },
  {
   "cell_type": "markdown",
   "metadata": {},
   "source": [
    "#### 'Hirotaka Osawa'"
   ]
  },
  {
   "cell_type": "code",
   "execution_count": null,
   "metadata": {},
   "outputs": [],
   "source": [
    "# query from Google Scholar\n",
    "search_query = scholarly.search_author('Hirotaka Osawa')"
   ]
  },
  {
   "cell_type": "code",
   "execution_count": null,
   "metadata": {},
   "outputs": [],
   "source": [
    "coauthors = next(search_query).fill(['coauthors'])"
   ]
  },
  {
   "cell_type": "code",
   "execution_count": null,
   "metadata": {},
   "outputs": [],
   "source": [
    "coauthor_dict = ast.literal_eval(str(coauthors))\n",
    "coauthor_dict_list = coauthor_dict['coauthors']\n",
    "# get list of coauthor names\n",
    "coauthor_names = []\n",
    "for coauthor in coauthor_dict_list:\n",
    "    coauthor_names.append(coauthor['name'])\n",
    "# add to dataframe\n",
    "n = len(coauthor_names)\n",
    "test_df = test_df.append(pd.DataFrame({'from':['Hirotaka Osawa']*n,'to':coauthor_names}))\n",
    "#test_df\n",
    "# plot\n",
    "G=nx.from_pandas_edgelist(test_df, 'from', 'to')\n",
    "nx.draw(G, with_labels=True, node_color='#cfd760', alpha=0.8)\n",
    "plt.show()"
   ]
  },
  {
   "cell_type": "code",
   "execution_count": null,
   "metadata": {},
   "outputs": [],
   "source": []
  },
  {
   "cell_type": "markdown",
   "metadata": {},
   "source": [
    "#### 'Timothy Revell'"
   ]
  },
  {
   "cell_type": "code",
   "execution_count": null,
   "metadata": {},
   "outputs": [],
   "source": [
    "# query from Google Scholar\n",
    "search_query = scholarly.search_author('Timothy Revell')"
   ]
  },
  {
   "cell_type": "code",
   "execution_count": null,
   "metadata": {},
   "outputs": [],
   "source": [
    "coauthors = next(search_query).fill(['coauthors'])"
   ]
  },
  {
   "cell_type": "code",
   "execution_count": null,
   "metadata": {},
   "outputs": [],
   "source": [
    "# he doesn't have a Google Scholar page"
   ]
  },
  {
   "cell_type": "code",
   "execution_count": null,
   "metadata": {},
   "outputs": [],
   "source": []
  },
  {
   "cell_type": "markdown",
   "metadata": {},
   "source": [
    "#### 'Michael Johanson'"
   ]
  },
  {
   "cell_type": "code",
   "execution_count": null,
   "metadata": {},
   "outputs": [],
   "source": [
    "# query from Google Scholar\n",
    "search_query = scholarly.search_author('Michael Johanson')"
   ]
  },
  {
   "cell_type": "code",
   "execution_count": null,
   "metadata": {},
   "outputs": [],
   "source": [
    "coauthors = next(search_query).fill(['coauthors'])"
   ]
  },
  {
   "cell_type": "code",
   "execution_count": null,
   "metadata": {},
   "outputs": [],
   "source": [
    "# no coauthors"
   ]
  },
  {
   "cell_type": "code",
   "execution_count": null,
   "metadata": {},
   "outputs": [],
   "source": []
  },
  {
   "cell_type": "markdown",
   "metadata": {},
   "source": [
    "#### 'Max Kramer'"
   ]
  },
  {
   "cell_type": "code",
   "execution_count": null,
   "metadata": {},
   "outputs": [],
   "source": [
    "# query from Google Scholar\n",
    "search_query = scholarly.search_author('Max Kramer')"
   ]
  },
  {
   "cell_type": "code",
   "execution_count": null,
   "metadata": {},
   "outputs": [],
   "source": [
    "coauthors = next(search_query).fill(['coauthors'])"
   ]
  },
  {
   "cell_type": "code",
   "execution_count": null,
   "metadata": {},
   "outputs": [],
   "source": [
    "# no coauthors"
   ]
  },
  {
   "cell_type": "code",
   "execution_count": null,
   "metadata": {},
   "outputs": [],
   "source": []
  },
  {
   "cell_type": "markdown",
   "metadata": {},
   "source": [
    "#### 'Sam Ganzfried'"
   ]
  },
  {
   "cell_type": "code",
   "execution_count": null,
   "metadata": {},
   "outputs": [],
   "source": [
    "# query from Google Scholar\n",
    "search_query = scholarly.search_author('Sam Ganzfried')"
   ]
  },
  {
   "cell_type": "code",
   "execution_count": null,
   "metadata": {},
   "outputs": [],
   "source": [
    "coauthors = next(search_query).fill(['coauthors'])"
   ]
  },
  {
   "cell_type": "code",
   "execution_count": null,
   "metadata": {},
   "outputs": [],
   "source": [
    "# no coauthors"
   ]
  },
  {
   "cell_type": "code",
   "execution_count": null,
   "metadata": {},
   "outputs": [],
   "source": []
  },
  {
   "cell_type": "markdown",
   "metadata": {},
   "source": [
    "#### 'Jeremy J. Michalek'"
   ]
  },
  {
   "cell_type": "code",
   "execution_count": null,
   "metadata": {},
   "outputs": [],
   "source": [
    "# query from Google Scholar\n",
    "search_query = scholarly.search_author('Jeremy J. Michalek')"
   ]
  },
  {
   "cell_type": "code",
   "execution_count": null,
   "metadata": {},
   "outputs": [],
   "source": [
    "coauthors = next(search_query).fill(['coauthors'])"
   ]
  },
  {
   "cell_type": "code",
   "execution_count": null,
   "metadata": {},
   "outputs": [],
   "source": [
    "coauthor_dict = ast.literal_eval(str(coauthors))\n",
    "coauthor_dict_list = coauthor_dict['coauthors']\n",
    "# get list of coauthor names\n",
    "coauthor_names = []\n",
    "for coauthor in coauthor_dict_list:\n",
    "    coauthor_names.append(coauthor['name'])\n",
    "# add to dataframe\n",
    "n = len(coauthor_names)\n",
    "test_df = test_df.append(pd.DataFrame({'from':['Jeremy J. Michalek']*n,'to':coauthor_names}))\n",
    "#test_df\n",
    "# plot\n",
    "G=nx.from_pandas_edgelist(test_df, 'from', 'to')\n",
    "nx.draw(G, with_labels=True, node_color='#cfd760', alpha=0.8)\n",
    "plt.show()"
   ]
  },
  {
   "cell_type": "code",
   "execution_count": null,
   "metadata": {},
   "outputs": [],
   "source": []
  },
  {
   "cell_type": "markdown",
   "metadata": {},
   "source": [
    "#### 'William Ross Morrow'"
   ]
  },
  {
   "cell_type": "code",
   "execution_count": null,
   "metadata": {},
   "outputs": [],
   "source": [
    "# query from Google Scholar\n",
    "search_query = scholarly.search_author('William Ross Morrow')"
   ]
  },
  {
   "cell_type": "code",
   "execution_count": null,
   "metadata": {},
   "outputs": [],
   "source": [
    "coauthors = next(search_query).fill(['coauthors'])"
   ]
  },
  {
   "cell_type": "code",
   "execution_count": null,
   "metadata": {
    "scrolled": true
   },
   "outputs": [],
   "source": [
    "coauthor_dict = ast.literal_eval(str(coauthors))\n",
    "coauthor_dict_list = coauthor_dict['coauthors']\n",
    "# get list of coauthor names\n",
    "coauthor_names = []\n",
    "for coauthor in coauthor_dict_list:\n",
    "    coauthor_names.append(coauthor['name'])\n",
    "# add to dataframe\n",
    "n = len(coauthor_names)\n",
    "test_df = test_df.append(pd.DataFrame({'from':['William Ross Morrow']*n,'to':coauthor_names}))\n",
    "#test_df\n",
    "# plot\n",
    "G=nx.from_pandas_edgelist(test_df, 'from', 'to')\n",
    "nx.draw(G, with_labels=True, node_color='#cfd760', alpha=0.8)\n",
    "plt.show()"
   ]
  },
  {
   "cell_type": "code",
   "execution_count": null,
   "metadata": {},
   "outputs": [],
   "source": []
  },
  {
   "cell_type": "markdown",
   "metadata": {},
   "source": [
    "#### 'Tuomas Sandholm'"
   ]
  },
  {
   "cell_type": "code",
   "execution_count": null,
   "metadata": {},
   "outputs": [],
   "source": [
    "# query from Google Scholar\n",
    "search_query = scholarly.search_author('Tuomas Sandholm')"
   ]
  },
  {
   "cell_type": "code",
   "execution_count": null,
   "metadata": {},
   "outputs": [],
   "source": [
    "coauthors = next(search_query).fill(['coauthors'])"
   ]
  },
  {
   "cell_type": "code",
   "execution_count": null,
   "metadata": {},
   "outputs": [],
   "source": [
    "# he doesn't have \"coauthors\" on his Google Scholar profile..."
   ]
  },
  {
   "cell_type": "code",
   "execution_count": null,
   "metadata": {},
   "outputs": [],
   "source": [
    "next(search_query).fill()"
   ]
  },
  {
   "cell_type": "code",
   "execution_count": null,
   "metadata": {},
   "outputs": [],
   "source": []
  },
  {
   "cell_type": "code",
   "execution_count": null,
   "metadata": {},
   "outputs": [],
   "source": []
  },
  {
   "cell_type": "markdown",
   "metadata": {},
   "source": [
    "right now save as csv and load it beforehand so that when we search authors it would first check if it is in the csv\n",
    "\n",
    "OOP inheritance to work with class Author"
   ]
  },
  {
   "cell_type": "markdown",
   "metadata": {},
   "source": [
    "IAI: \n",
    "- literature review \n",
    "- table chart summary\n",
    "\n",
    "network_graph:\n",
    "- error handling with try excepts\n",
    "- storing data, data persistent\n",
    "- learn d3\n",
    "- for people less than 5, see connections\n",
    "- do a fized size visaulization in place\n",
    "- start working on it interactively, for example click on a node and see other networks\n",
    "- can i search by year of publication? add collecting that info\n",
    "- adding text to side as publication"
   ]
  },
  {
   "cell_type": "code",
   "execution_count": null,
   "metadata": {},
   "outputs": [],
   "source": []
  }
 ],
 "metadata": {
  "kernelspec": {
   "display_name": "Python 3.8.1 64-bit",
   "language": "python",
   "name": "python38164bit0209044da7c742dab8314e0953beb93b"
  },
  "language_info": {
   "codemirror_mode": {
    "name": "ipython",
    "version": 3
   },
   "file_extension": ".py",
   "mimetype": "text/x-python",
   "name": "python",
   "nbconvert_exporter": "python",
   "pygments_lexer": "ipython3",
   "version": "3.8.1"
  }
 },
 "nbformat": 4,
 "nbformat_minor": 4
}
