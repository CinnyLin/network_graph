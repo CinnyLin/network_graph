{
 "cells": [
  {
   "cell_type": "code",
   "execution_count": null,
   "metadata": {},
   "outputs": [],
   "source": []
  },
  {
   "cell_type": "markdown",
   "metadata": {},
   "source": [
    "check out python's [scholarly](https://pypi.org/project/scholarly/) library!!!\n",
    "\n",
    "and this [Google Scholar's API](https://serpapi.com/google-scholar-api).\n",
    "\n",
    "use these as references on how i want to transform data to network!"
   ]
  },
  {
   "cell_type": "code",
   "execution_count": null,
   "metadata": {},
   "outputs": [],
   "source": []
  },
  {
   "cell_type": "code",
   "execution_count": 1,
   "metadata": {},
   "outputs": [],
   "source": [
    "# libraries\n",
    "import pandas as pd\n",
    "import numpy as np\n",
    "import networkx as nx\n",
    "import matplotlib.pyplot as plt"
   ]
  },
  {
   "cell_type": "code",
   "execution_count": 8,
   "metadata": {},
   "outputs": [
    {
     "data": {
      "text/html": [
       "<div>\n",
       "<style scoped>\n",
       "    .dataframe tbody tr th:only-of-type {\n",
       "        vertical-align: middle;\n",
       "    }\n",
       "\n",
       "    .dataframe tbody tr th {\n",
       "        vertical-align: top;\n",
       "    }\n",
       "\n",
       "    .dataframe thead th {\n",
       "        text-align: right;\n",
       "    }\n",
       "</style>\n",
       "<table border=\"1\" class=\"dataframe\">\n",
       "  <thead>\n",
       "    <tr style=\"text-align: right;\">\n",
       "      <th></th>\n",
       "      <th>from</th>\n",
       "      <th>to</th>\n",
       "      <th>strength</th>\n",
       "    </tr>\n",
       "  </thead>\n",
       "  <tbody>\n",
       "    <tr>\n",
       "      <th>0</th>\n",
       "      <td>A</td>\n",
       "      <td>D</td>\n",
       "      <td>1</td>\n",
       "    </tr>\n",
       "    <tr>\n",
       "      <th>1</th>\n",
       "      <td>B</td>\n",
       "      <td>A</td>\n",
       "      <td>2</td>\n",
       "    </tr>\n",
       "    <tr>\n",
       "      <th>2</th>\n",
       "      <td>C</td>\n",
       "      <td>E</td>\n",
       "      <td>3</td>\n",
       "    </tr>\n",
       "    <tr>\n",
       "      <th>3</th>\n",
       "      <td>A</td>\n",
       "      <td>C</td>\n",
       "      <td>4</td>\n",
       "    </tr>\n",
       "    <tr>\n",
       "      <th>4</th>\n",
       "      <td>A</td>\n",
       "      <td>B</td>\n",
       "      <td>5</td>\n",
       "    </tr>\n",
       "  </tbody>\n",
       "</table>\n",
       "</div>"
      ],
      "text/plain": [
       "  from to  strength\n",
       "0    A  D         1\n",
       "1    B  A         2\n",
       "2    C  E         3\n",
       "3    A  C         4\n",
       "4    A  B         5"
      ]
     },
     "execution_count": 8,
     "metadata": {},
     "output_type": "execute_result"
    }
   ],
   "source": [
    "# Build a dataframe with 4 connections\n",
    "test = pd.DataFrame({ 'from':['A', 'B', 'C','A', 'A'], \n",
    "                      'to':['D', 'A', 'E','C', 'B'], \n",
    "                       'strength': [1, 2, 3, 4, 5]})\n",
    "test"
   ]
  },
  {
   "cell_type": "code",
   "execution_count": 15,
   "metadata": {},
   "outputs": [
    {
     "data": {
      "image/png": "[encoded data removed]",
      "text/plain": [
       "<Figure size 432x288 with 1 Axes>"
      ]
     },
     "metadata": {},
     "output_type": "display_data"
    }
   ],
   "source": [
    "# Build your graph\n",
    "#G=nx.from_pandas_dataframe(df, 'from', 'to')\n",
    "G=nx.from_pandas_edgelist(test, 'from', 'to')\n",
    "# Plot it\n",
    "nx.draw(G, with_labels=True, node_color='#cfd760')\n",
    "plt.show()"
   ]
  },
  {
   "cell_type": "code",
   "execution_count": null,
   "metadata": {},
   "outputs": [],
   "source": []
  },
  {
   "cell_type": "code",
   "execution_count": null,
   "metadata": {},
   "outputs": [],
   "source": []
  },
  {
   "cell_type": "code",
   "execution_count": 4,
   "metadata": {},
   "outputs": [
    {
     "data": {
      "text/html": [
       "<div>\n",
       "<style scoped>\n",
       "    .dataframe tbody tr th:only-of-type {\n",
       "        vertical-align: middle;\n",
       "    }\n",
       "\n",
       "    .dataframe tbody tr th {\n",
       "        vertical-align: top;\n",
       "    }\n",
       "\n",
       "    .dataframe thead th {\n",
       "        text-align: right;\n",
       "    }\n",
       "</style>\n",
       "<table border=\"1\" class=\"dataframe\">\n",
       "  <thead>\n",
       "    <tr style=\"text-align: right;\">\n",
       "      <th></th>\n",
       "      <th>Title</th>\n",
       "      <th>Author(s)</th>\n",
       "      <th>Link</th>\n",
       "    </tr>\n",
       "  </thead>\n",
       "  <tbody>\n",
       "    <tr>\n",
       "      <th>0</th>\n",
       "      <td>Game theory and AI: a unified approach to poke...</td>\n",
       "      <td>Frans Oliehoek</td>\n",
       "      <td>http://fransoliehoek.net/docs/Oliehoek05MSc.pdf</td>\n",
       "    </tr>\n",
       "    <tr>\n",
       "      <th>1</th>\n",
       "      <td>A Competitive Texas Hold’em Poker Player Via A...</td>\n",
       "      <td>Andrew Gilpin, Tuomas Sandholm</td>\n",
       "      <td>https://www.aaai.org/Papers/AAAI/2006/AAAI06-1...</td>\n",
       "    </tr>\n",
       "    <tr>\n",
       "      <th>2</th>\n",
       "      <td>Approximating Game-Theoretic Optimal Strategie...</td>\n",
       "      <td>D. Billings, N. Burch, A. Davidson, R. Holte, ...</td>\n",
       "      <td>http://webdocs.cs.ualberta.ca/~darse/Papers/IJ...</td>\n",
       "    </tr>\n",
       "    <tr>\n",
       "      <th>3</th>\n",
       "      <td>Superhuman AI for heads-up no-limit\\npoker: Li...</td>\n",
       "      <td>Noam Brown, Tuomas Sandholm</td>\n",
       "      <td>https://science.sciencemag.org/content/359/637...</td>\n",
       "    </tr>\n",
       "    <tr>\n",
       "      <th>4</th>\n",
       "      <td>Algorithm for optimal winner determination in ...</td>\n",
       "      <td>Tuomas Sandholm</td>\n",
       "      <td>https://www.sciencedirect.com/science/article/...</td>\n",
       "    </tr>\n",
       "  </tbody>\n",
       "</table>\n",
       "</div>"
      ],
      "text/plain": [
       "                                               Title  \\\n",
       "0  Game theory and AI: a unified approach to poke...   \n",
       "1  A Competitive Texas Hold’em Poker Player Via A...   \n",
       "2  Approximating Game-Theoretic Optimal Strategie...   \n",
       "3  Superhuman AI for heads-up no-limit\\npoker: Li...   \n",
       "4  Algorithm for optimal winner determination in ...   \n",
       "\n",
       "                                           Author(s)  \\\n",
       "0                                     Frans Oliehoek   \n",
       "1                     Andrew Gilpin, Tuomas Sandholm   \n",
       "2  D. Billings, N. Burch, A. Davidson, R. Holte, ...   \n",
       "3                        Noam Brown, Tuomas Sandholm   \n",
       "4                                    Tuomas Sandholm   \n",
       "\n",
       "                                                Link  \n",
       "0    http://fransoliehoek.net/docs/Oliehoek05MSc.pdf  \n",
       "1  https://www.aaai.org/Papers/AAAI/2006/AAAI06-1...  \n",
       "2  http://webdocs.cs.ualberta.ca/~darse/Papers/IJ...  \n",
       "3  https://science.sciencemag.org/content/359/637...  \n",
       "4  https://www.sciencedirect.com/science/article/...  "
      ]
     },
     "execution_count": 4,
     "metadata": {},
     "output_type": "execute_result"
    }
   ],
   "source": [
    "# Build a dataframe with 4 connections\n",
    "df = pd.read_csv('lit_review.csv')\n",
    "df.head()"
   ]
  },
  {
   "cell_type": "code",
   "execution_count": null,
   "metadata": {},
   "outputs": [],
   "source": []
  },
  {
   "cell_type": "markdown",
   "metadata": {},
   "source": [
    "Goal! Transform the data to become "
   ]
  },
  {
   "cell_type": "code",
   "execution_count": null,
   "metadata": {},
   "outputs": [],
   "source": []
  },
  {
   "cell_type": "code",
   "execution_count": 5,
   "metadata": {},
   "outputs": [],
   "source": [
    "def get_last_name(authors):\n",
    "    name_list = authors.split(',')\n",
    "    last_name_list = []\n",
    "    for name in name_list:\n",
    "        last_name_list.append(name.split()[-1])\n",
    "    return last_name_list"
   ]
  },
  {
   "cell_type": "code",
   "execution_count": 6,
   "metadata": {},
   "outputs": [
    {
     "data": {
      "text/html": [
       "<div>\n",
       "<style scoped>\n",
       "    .dataframe tbody tr th:only-of-type {\n",
       "        vertical-align: middle;\n",
       "    }\n",
       "\n",
       "    .dataframe tbody tr th {\n",
       "        vertical-align: top;\n",
       "    }\n",
       "\n",
       "    .dataframe thead th {\n",
       "        text-align: right;\n",
       "    }\n",
       "</style>\n",
       "<table border=\"1\" class=\"dataframe\">\n",
       "  <thead>\n",
       "    <tr style=\"text-align: right;\">\n",
       "      <th></th>\n",
       "      <th>Title</th>\n",
       "      <th>Author(s)</th>\n",
       "      <th>Link</th>\n",
       "      <th>last_name_list</th>\n",
       "    </tr>\n",
       "  </thead>\n",
       "  <tbody>\n",
       "    <tr>\n",
       "      <th>0</th>\n",
       "      <td>Game theory and AI: a unified approach to poke...</td>\n",
       "      <td>Frans Oliehoek</td>\n",
       "      <td>http://fransoliehoek.net/docs/Oliehoek05MSc.pdf</td>\n",
       "      <td>[Oliehoek]</td>\n",
       "    </tr>\n",
       "    <tr>\n",
       "      <th>1</th>\n",
       "      <td>A Competitive Texas Hold’em Poker Player Via A...</td>\n",
       "      <td>Andrew Gilpin, Tuomas Sandholm</td>\n",
       "      <td>https://www.aaai.org/Papers/AAAI/2006/AAAI06-1...</td>\n",
       "      <td>[Gilpin, Sandholm]</td>\n",
       "    </tr>\n",
       "    <tr>\n",
       "      <th>2</th>\n",
       "      <td>Approximating Game-Theoretic Optimal Strategie...</td>\n",
       "      <td>D. Billings, N. Burch, A. Davidson, R. Holte, ...</td>\n",
       "      <td>http://webdocs.cs.ualberta.ca/~darse/Papers/IJ...</td>\n",
       "      <td>[Billings, Burch, Davidson, Holte, Schaeffer, ...</td>\n",
       "    </tr>\n",
       "    <tr>\n",
       "      <th>3</th>\n",
       "      <td>Superhuman AI for heads-up no-limit\\npoker: Li...</td>\n",
       "      <td>Noam Brown, Tuomas Sandholm</td>\n",
       "      <td>https://science.sciencemag.org/content/359/637...</td>\n",
       "      <td>[Brown, Sandholm]</td>\n",
       "    </tr>\n",
       "    <tr>\n",
       "      <th>4</th>\n",
       "      <td>Algorithm for optimal winner determination in ...</td>\n",
       "      <td>Tuomas Sandholm</td>\n",
       "      <td>https://www.sciencedirect.com/science/article/...</td>\n",
       "      <td>[Sandholm]</td>\n",
       "    </tr>\n",
       "  </tbody>\n",
       "</table>\n",
       "</div>"
      ],
      "text/plain": [
       "                                               Title  \\\n",
       "0  Game theory and AI: a unified approach to poke...   \n",
       "1  A Competitive Texas Hold’em Poker Player Via A...   \n",
       "2  Approximating Game-Theoretic Optimal Strategie...   \n",
       "3  Superhuman AI for heads-up no-limit\\npoker: Li...   \n",
       "4  Algorithm for optimal winner determination in ...   \n",
       "\n",
       "                                           Author(s)  \\\n",
       "0                                     Frans Oliehoek   \n",
       "1                     Andrew Gilpin, Tuomas Sandholm   \n",
       "2  D. Billings, N. Burch, A. Davidson, R. Holte, ...   \n",
       "3                        Noam Brown, Tuomas Sandholm   \n",
       "4                                    Tuomas Sandholm   \n",
       "\n",
       "                                                Link  \\\n",
       "0    http://fransoliehoek.net/docs/Oliehoek05MSc.pdf   \n",
       "1  https://www.aaai.org/Papers/AAAI/2006/AAAI06-1...   \n",
       "2  http://webdocs.cs.ualberta.ca/~darse/Papers/IJ...   \n",
       "3  https://science.sciencemag.org/content/359/637...   \n",
       "4  https://www.sciencedirect.com/science/article/...   \n",
       "\n",
       "                                      last_name_list  \n",
       "0                                         [Oliehoek]  \n",
       "1                                 [Gilpin, Sandholm]  \n",
       "2  [Billings, Burch, Davidson, Holte, Schaeffer, ...  \n",
       "3                                  [Brown, Sandholm]  \n",
       "4                                         [Sandholm]  "
      ]
     },
     "execution_count": 6,
     "metadata": {},
     "output_type": "execute_result"
    }
   ],
   "source": [
    "df['last_name_list'] = df['Author(s)'].apply(get_last_name)\n",
    "df.head()"
   ]
  },
  {
   "cell_type": "code",
   "execution_count": null,
   "metadata": {},
   "outputs": [],
   "source": []
  },
  {
   "cell_type": "code",
   "execution_count": 7,
   "metadata": {},
   "outputs": [
    {
     "ename": "NameError",
     "evalue": "name 'df1' is not defined",
     "output_type": "error",
     "traceback": [
      "\u001b[0;31m---------------------------------------------------------------------------\u001b[0m",
      "\u001b[0;31mNameError\u001b[0m                                 Traceback (most recent call last)",
      "\u001b[0;32m<ipython-input-7-c32b36679b0b>\u001b[0m in \u001b[0;36m<module>\u001b[0;34m\u001b[0m\n\u001b[0;32m----> 1\u001b[0;31m \u001b[0mG\u001b[0m\u001b[0;34m=\u001b[0m\u001b[0mnx\u001b[0m\u001b[0;34m.\u001b[0m\u001b[0mfrom_pandas_edgelist\u001b[0m\u001b[0;34m(\u001b[0m\u001b[0mdf1\u001b[0m\u001b[0;34m,\u001b[0m \u001b[0;34m'Author(s)'\u001b[0m\u001b[0;34m,\u001b[0m \u001b[0;34m'xxx'\u001b[0m\u001b[0;34m)\u001b[0m\u001b[0;34m\u001b[0m\u001b[0;34m\u001b[0m\u001b[0m\n\u001b[0m\u001b[1;32m      2\u001b[0m \u001b[0mnx\u001b[0m\u001b[0;34m.\u001b[0m\u001b[0mdraw\u001b[0m\u001b[0;34m(\u001b[0m\u001b[0mG\u001b[0m\u001b[0;34m,\u001b[0m \u001b[0mwith_labels\u001b[0m\u001b[0;34m=\u001b[0m\u001b[0;32mTrue\u001b[0m\u001b[0;34m)\u001b[0m\u001b[0;34m\u001b[0m\u001b[0;34m\u001b[0m\u001b[0m\n\u001b[1;32m      3\u001b[0m \u001b[0mplt\u001b[0m\u001b[0;34m.\u001b[0m\u001b[0mshow\u001b[0m\u001b[0;34m(\u001b[0m\u001b[0;34m)\u001b[0m\u001b[0;34m\u001b[0m\u001b[0;34m\u001b[0m\u001b[0m\n",
      "\u001b[0;31mNameError\u001b[0m: name 'df1' is not defined"
     ]
    }
   ],
   "source": [
    "G=nx.from_pandas_edgelist(df1, 'Author(s)', 'xxx')\n",
    "nx.draw(G, with_labels=True)\n",
    "plt.show()"
   ]
  },
  {
   "cell_type": "code",
   "execution_count": null,
   "metadata": {},
   "outputs": [],
   "source": []
  },
  {
   "cell_type": "code",
   "execution_count": null,
   "metadata": {},
   "outputs": [],
   "source": []
  },
  {
   "cell_type": "code",
   "execution_count": null,
   "metadata": {},
   "outputs": [],
   "source": []
  },
  {
   "cell_type": "code",
   "execution_count": null,
   "metadata": {},
   "outputs": [],
   "source": []
  }
 ],
 "metadata": {
  "kernelspec": {
   "display_name": "Python 3.8.1 64-bit",
   "language": "python",
   "name": "python38164bit0209044da7c742dab8314e0953beb93b"
  },
  "language_info": {
   "codemirror_mode": {
    "name": "ipython",
    "version": 3
   },
   "file_extension": ".py",
   "mimetype": "text/x-python",
   "name": "python",
   "nbconvert_exporter": "python",
   "pygments_lexer": "ipython3",
   "version": "3.8.1"
  }
 },
 "nbformat": 4,
 "nbformat_minor": 4
}
